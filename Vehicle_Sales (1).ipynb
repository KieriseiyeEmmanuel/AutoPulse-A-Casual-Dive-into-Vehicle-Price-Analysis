{
 "cells": [
  {
   "cell_type": "code",
   "execution_count": 215,
   "id": "c24fd84c-aef0-434a-9a9d-9866103fafbf",
   "metadata": {},
   "outputs": [
    {
     "data": {
      "text/html": [
       "<div>\n",
       "<style scoped>\n",
       "    .dataframe tbody tr th:only-of-type {\n",
       "        vertical-align: middle;\n",
       "    }\n",
       "\n",
       "    .dataframe tbody tr th {\n",
       "        vertical-align: top;\n",
       "    }\n",
       "\n",
       "    .dataframe thead th {\n",
       "        text-align: right;\n",
       "    }\n",
       "</style>\n",
       "<table border=\"1\" class=\"dataframe\">\n",
       "  <thead>\n",
       "    <tr style=\"text-align: right;\">\n",
       "      <th></th>\n",
       "      <th>year</th>\n",
       "      <th>make</th>\n",
       "      <th>model</th>\n",
       "      <th>trim</th>\n",
       "      <th>body</th>\n",
       "      <th>transmission</th>\n",
       "      <th>vin</th>\n",
       "      <th>state</th>\n",
       "      <th>condition</th>\n",
       "      <th>odometer</th>\n",
       "      <th>color</th>\n",
       "      <th>interior</th>\n",
       "      <th>seller</th>\n",
       "      <th>mmr</th>\n",
       "      <th>sellingprice</th>\n",
       "      <th>saledate</th>\n",
       "    </tr>\n",
       "  </thead>\n",
       "  <tbody>\n",
       "    <tr>\n",
       "      <th>0</th>\n",
       "      <td>2015</td>\n",
       "      <td>Kia</td>\n",
       "      <td>Sorento</td>\n",
       "      <td>LX</td>\n",
       "      <td>SUV</td>\n",
       "      <td>automatic</td>\n",
       "      <td>5xyktca69fg566472</td>\n",
       "      <td>ca</td>\n",
       "      <td>5.0</td>\n",
       "      <td>16639.0</td>\n",
       "      <td>white</td>\n",
       "      <td>black</td>\n",
       "      <td>kia motors america  inc</td>\n",
       "      <td>20500.0</td>\n",
       "      <td>21500.0</td>\n",
       "      <td>Tue Dec 16 2014 12:30:00 GMT-0800 (PST)</td>\n",
       "    </tr>\n",
       "    <tr>\n",
       "      <th>1</th>\n",
       "      <td>2015</td>\n",
       "      <td>Kia</td>\n",
       "      <td>Sorento</td>\n",
       "      <td>LX</td>\n",
       "      <td>SUV</td>\n",
       "      <td>automatic</td>\n",
       "      <td>5xyktca69fg561319</td>\n",
       "      <td>ca</td>\n",
       "      <td>5.0</td>\n",
       "      <td>9393.0</td>\n",
       "      <td>white</td>\n",
       "      <td>beige</td>\n",
       "      <td>kia motors america  inc</td>\n",
       "      <td>20800.0</td>\n",
       "      <td>21500.0</td>\n",
       "      <td>Tue Dec 16 2014 12:30:00 GMT-0800 (PST)</td>\n",
       "    </tr>\n",
       "    <tr>\n",
       "      <th>2</th>\n",
       "      <td>2014</td>\n",
       "      <td>BMW</td>\n",
       "      <td>3 Series</td>\n",
       "      <td>328i SULEV</td>\n",
       "      <td>Sedan</td>\n",
       "      <td>automatic</td>\n",
       "      <td>wba3c1c51ek116351</td>\n",
       "      <td>ca</td>\n",
       "      <td>45.0</td>\n",
       "      <td>1331.0</td>\n",
       "      <td>gray</td>\n",
       "      <td>black</td>\n",
       "      <td>financial services remarketing (lease)</td>\n",
       "      <td>31900.0</td>\n",
       "      <td>30000.0</td>\n",
       "      <td>Thu Jan 15 2015 04:30:00 GMT-0800 (PST)</td>\n",
       "    </tr>\n",
       "    <tr>\n",
       "      <th>3</th>\n",
       "      <td>2015</td>\n",
       "      <td>Volvo</td>\n",
       "      <td>S60</td>\n",
       "      <td>T5</td>\n",
       "      <td>Sedan</td>\n",
       "      <td>automatic</td>\n",
       "      <td>yv1612tb4f1310987</td>\n",
       "      <td>ca</td>\n",
       "      <td>41.0</td>\n",
       "      <td>14282.0</td>\n",
       "      <td>white</td>\n",
       "      <td>black</td>\n",
       "      <td>volvo na rep/world omni</td>\n",
       "      <td>27500.0</td>\n",
       "      <td>27750.0</td>\n",
       "      <td>Thu Jan 29 2015 04:30:00 GMT-0800 (PST)</td>\n",
       "    </tr>\n",
       "    <tr>\n",
       "      <th>4</th>\n",
       "      <td>2014</td>\n",
       "      <td>BMW</td>\n",
       "      <td>6 Series Gran Coupe</td>\n",
       "      <td>650i</td>\n",
       "      <td>Sedan</td>\n",
       "      <td>automatic</td>\n",
       "      <td>wba6b2c57ed129731</td>\n",
       "      <td>ca</td>\n",
       "      <td>43.0</td>\n",
       "      <td>2641.0</td>\n",
       "      <td>gray</td>\n",
       "      <td>black</td>\n",
       "      <td>financial services remarketing (lease)</td>\n",
       "      <td>66000.0</td>\n",
       "      <td>67000.0</td>\n",
       "      <td>Thu Dec 18 2014 12:30:00 GMT-0800 (PST)</td>\n",
       "    </tr>\n",
       "  </tbody>\n",
       "</table>\n",
       "</div>"
      ],
      "text/plain": [
       "   year   make                model        trim   body transmission  \\\n",
       "0  2015    Kia              Sorento          LX    SUV    automatic   \n",
       "1  2015    Kia              Sorento          LX    SUV    automatic   \n",
       "2  2014    BMW             3 Series  328i SULEV  Sedan    automatic   \n",
       "3  2015  Volvo                  S60          T5  Sedan    automatic   \n",
       "4  2014    BMW  6 Series Gran Coupe        650i  Sedan    automatic   \n",
       "\n",
       "                 vin state  condition  odometer  color interior  \\\n",
       "0  5xyktca69fg566472    ca        5.0   16639.0  white    black   \n",
       "1  5xyktca69fg561319    ca        5.0    9393.0  white    beige   \n",
       "2  wba3c1c51ek116351    ca       45.0    1331.0   gray    black   \n",
       "3  yv1612tb4f1310987    ca       41.0   14282.0  white    black   \n",
       "4  wba6b2c57ed129731    ca       43.0    2641.0   gray    black   \n",
       "\n",
       "                                   seller      mmr  sellingprice  \\\n",
       "0                 kia motors america  inc  20500.0       21500.0   \n",
       "1                 kia motors america  inc  20800.0       21500.0   \n",
       "2  financial services remarketing (lease)  31900.0       30000.0   \n",
       "3                 volvo na rep/world omni  27500.0       27750.0   \n",
       "4  financial services remarketing (lease)  66000.0       67000.0   \n",
       "\n",
       "                                  saledate  \n",
       "0  Tue Dec 16 2014 12:30:00 GMT-0800 (PST)  \n",
       "1  Tue Dec 16 2014 12:30:00 GMT-0800 (PST)  \n",
       "2  Thu Jan 15 2015 04:30:00 GMT-0800 (PST)  \n",
       "3  Thu Jan 29 2015 04:30:00 GMT-0800 (PST)  \n",
       "4  Thu Dec 18 2014 12:30:00 GMT-0800 (PST)  "
      ]
     },
     "execution_count": 215,
     "metadata": {},
     "output_type": "execute_result"
    }
   ],
   "source": [
    "import pandas as pd\n",
    "import numpy as np\n",
    "file_path = r'C:\\Users\\User\\Desktop\\Vehicle  Sales/car_prices.csv'\n",
    "df = pd.read_csv(file_path)\n",
    "df.head()"
   ]
  },
  {
   "cell_type": "code",
   "execution_count": 216,
   "id": "353c364f-eec3-4216-bb0c-4a20aa67e060",
   "metadata": {},
   "outputs": [
    {
     "name": "stdout",
     "output_type": "stream",
     "text": [
      "year\n",
      "year\n",
      "False    558837\n",
      "Name: count, dtype: int64\n",
      "\n",
      "make\n",
      "make\n",
      "False    548536\n",
      "True      10301\n",
      "Name: count, dtype: int64\n",
      "\n",
      "model\n",
      "model\n",
      "False    548438\n",
      "True      10399\n",
      "Name: count, dtype: int64\n",
      "\n",
      "trim\n",
      "trim\n",
      "False    548186\n",
      "True      10651\n",
      "Name: count, dtype: int64\n",
      "\n",
      "body\n",
      "body\n",
      "False    545642\n",
      "True      13195\n",
      "Name: count, dtype: int64\n",
      "\n",
      "transmission\n",
      "transmission\n",
      "False    493485\n",
      "True      65352\n",
      "Name: count, dtype: int64\n",
      "\n",
      "vin\n",
      "vin\n",
      "False    558833\n",
      "True          4\n",
      "Name: count, dtype: int64\n",
      "\n",
      "state\n",
      "state\n",
      "False    558837\n",
      "Name: count, dtype: int64\n",
      "\n",
      "condition\n",
      "condition\n",
      "False    547017\n",
      "True      11820\n",
      "Name: count, dtype: int64\n",
      "\n",
      "odometer\n",
      "odometer\n",
      "False    558743\n",
      "True         94\n",
      "Name: count, dtype: int64\n",
      "\n",
      "color\n",
      "color\n",
      "False    558088\n",
      "True        749\n",
      "Name: count, dtype: int64\n",
      "\n",
      "interior\n",
      "interior\n",
      "False    558088\n",
      "True        749\n",
      "Name: count, dtype: int64\n",
      "\n",
      "seller\n",
      "seller\n",
      "False    558837\n",
      "Name: count, dtype: int64\n",
      "\n",
      "mmr\n",
      "mmr\n",
      "False    558799\n",
      "True         38\n",
      "Name: count, dtype: int64\n",
      "\n",
      "sellingprice\n",
      "sellingprice\n",
      "False    558825\n",
      "True         12\n",
      "Name: count, dtype: int64\n",
      "\n",
      "saledate\n",
      "saledate\n",
      "False    558825\n",
      "True         12\n",
      "Name: count, dtype: int64\n",
      "\n"
     ]
    }
   ],
   "source": [
    "Data_Frame = df\n",
    "DF = Data_Frame.isnull()\n",
    "for column in DF.columns.values.tolist():\n",
    "    print(column)\n",
    "    print (DF[column].value_counts())\n",
    "    print(\"\")"
   ]
  },
  {
   "cell_type": "code",
   "execution_count": 217,
   "id": "aa3b8e1f-e825-4d58-9d64-61432b622c67",
   "metadata": {},
   "outputs": [],
   "source": [
    "most_frequent_word_make = df['make'].mode()[0]"
   ]
  },
  {
   "cell_type": "code",
   "execution_count": 218,
   "id": "5de39991-9fee-4a99-8389-b7670f1bf17f",
   "metadata": {},
   "outputs": [
    {
     "data": {
      "text/plain": [
       "'Ford'"
      ]
     },
     "execution_count": 218,
     "metadata": {},
     "output_type": "execute_result"
    }
   ],
   "source": [
    "most_frequent_word_make"
   ]
  },
  {
   "cell_type": "code",
   "execution_count": 219,
   "id": "f0cb42d6-25dd-4942-b0ea-f049721be0de",
   "metadata": {},
   "outputs": [],
   "source": [
    "df['make'] = df['make'].fillna(most_frequent_word_make)"
   ]
  },
  {
   "cell_type": "code",
   "execution_count": 220,
   "id": "6d9f4482-d5c0-4610-a5d8-cdaac622791f",
   "metadata": {},
   "outputs": [],
   "source": [
    "most_frequent_word_model = df['model'].mode()[0]"
   ]
  },
  {
   "cell_type": "code",
   "execution_count": 221,
   "id": "d21e0108-69f3-453f-9fd3-a4d7d78fe770",
   "metadata": {},
   "outputs": [
    {
     "data": {
      "text/plain": [
       "'Altima'"
      ]
     },
     "execution_count": 221,
     "metadata": {},
     "output_type": "execute_result"
    }
   ],
   "source": [
    "most_frequent_word_model"
   ]
  },
  {
   "cell_type": "code",
   "execution_count": 222,
   "id": "352b1762-dba4-4552-bcc7-b77a2d2a20ca",
   "metadata": {},
   "outputs": [],
   "source": [
    "df['model'] = df['model'].fillna(most_frequent_word_model)"
   ]
  },
  {
   "cell_type": "code",
   "execution_count": 223,
   "id": "588b335c-7fc3-4285-af91-f2ab13d742a2",
   "metadata": {},
   "outputs": [],
   "source": [
    "most_frequent_word_trim= df['trim'].mode()[0]"
   ]
  },
  {
   "cell_type": "code",
   "execution_count": 224,
   "id": "741acd2a-99c6-4c43-8b5c-154dddb0ffbf",
   "metadata": {},
   "outputs": [
    {
     "data": {
      "text/plain": [
       "'Base'"
      ]
     },
     "execution_count": 224,
     "metadata": {},
     "output_type": "execute_result"
    }
   ],
   "source": [
    "most_frequent_word_trim"
   ]
  },
  {
   "cell_type": "code",
   "execution_count": 225,
   "id": "479653ff-888f-43c8-9b3f-e61b753026e2",
   "metadata": {},
   "outputs": [],
   "source": [
    "df['trim'] = df['trim'].fillna(most_frequent_word_trim)"
   ]
  },
  {
   "cell_type": "code",
   "execution_count": 226,
   "id": "84ac5981-1903-4154-90be-e705e0eb5889",
   "metadata": {},
   "outputs": [],
   "source": [
    "most_frequent_word_body = df['body'].mode()[0]"
   ]
  },
  {
   "cell_type": "code",
   "execution_count": 227,
   "id": "e5fdf03d-c021-4988-80ed-9f26c84222d3",
   "metadata": {},
   "outputs": [
    {
     "data": {
      "text/plain": [
       "'Sedan'"
      ]
     },
     "execution_count": 227,
     "metadata": {},
     "output_type": "execute_result"
    }
   ],
   "source": [
    "most_frequent_word_body"
   ]
  },
  {
   "cell_type": "code",
   "execution_count": 228,
   "id": "72952f92-d12b-482f-938d-98160bb8c82e",
   "metadata": {},
   "outputs": [],
   "source": [
    "df['body'] = df['body'].fillna(most_frequent_word_body)"
   ]
  },
  {
   "cell_type": "code",
   "execution_count": 229,
   "id": "34205167-a9ab-40d5-8f16-bf54eff1cf96",
   "metadata": {},
   "outputs": [],
   "source": [
    "most_frequent_word_transmission = df['transmission'].mode()[0]"
   ]
  },
  {
   "cell_type": "code",
   "execution_count": 230,
   "id": "037f661f-93ee-47cf-a395-22242f245c52",
   "metadata": {},
   "outputs": [
    {
     "data": {
      "text/plain": [
       "'automatic'"
      ]
     },
     "execution_count": 230,
     "metadata": {},
     "output_type": "execute_result"
    }
   ],
   "source": [
    "most_frequent_word_transmission"
   ]
  },
  {
   "cell_type": "code",
   "execution_count": 231,
   "id": "960d6220-81d9-404b-acd1-3b5f1d5cc83b",
   "metadata": {},
   "outputs": [],
   "source": [
    "df['transmission'] = df['transmission'].fillna(most_frequent_word_transmission)"
   ]
  },
  {
   "cell_type": "code",
   "execution_count": 232,
   "id": "64793843-dcfe-4d9e-8b25-e14f437b3c7b",
   "metadata": {},
   "outputs": [],
   "source": [
    "df = df.drop(columns=['vin'])"
   ]
  },
  {
   "cell_type": "code",
   "execution_count": 233,
   "id": "049c694a-c254-4fe5-83dd-39c1fd91c35b",
   "metadata": {},
   "outputs": [
    {
     "data": {
      "text/html": [
       "<div>\n",
       "<style scoped>\n",
       "    .dataframe tbody tr th:only-of-type {\n",
       "        vertical-align: middle;\n",
       "    }\n",
       "\n",
       "    .dataframe tbody tr th {\n",
       "        vertical-align: top;\n",
       "    }\n",
       "\n",
       "    .dataframe thead th {\n",
       "        text-align: right;\n",
       "    }\n",
       "</style>\n",
       "<table border=\"1\" class=\"dataframe\">\n",
       "  <thead>\n",
       "    <tr style=\"text-align: right;\">\n",
       "      <th></th>\n",
       "      <th>year</th>\n",
       "      <th>make</th>\n",
       "      <th>model</th>\n",
       "      <th>trim</th>\n",
       "      <th>body</th>\n",
       "      <th>transmission</th>\n",
       "      <th>state</th>\n",
       "      <th>condition</th>\n",
       "      <th>odometer</th>\n",
       "      <th>color</th>\n",
       "      <th>interior</th>\n",
       "      <th>seller</th>\n",
       "      <th>mmr</th>\n",
       "      <th>sellingprice</th>\n",
       "      <th>saledate</th>\n",
       "    </tr>\n",
       "  </thead>\n",
       "  <tbody>\n",
       "    <tr>\n",
       "      <th>0</th>\n",
       "      <td>2015</td>\n",
       "      <td>Kia</td>\n",
       "      <td>Sorento</td>\n",
       "      <td>LX</td>\n",
       "      <td>SUV</td>\n",
       "      <td>automatic</td>\n",
       "      <td>ca</td>\n",
       "      <td>5.0</td>\n",
       "      <td>16639.0</td>\n",
       "      <td>white</td>\n",
       "      <td>black</td>\n",
       "      <td>kia motors america  inc</td>\n",
       "      <td>20500.0</td>\n",
       "      <td>21500.0</td>\n",
       "      <td>Tue Dec 16 2014 12:30:00 GMT-0800 (PST)</td>\n",
       "    </tr>\n",
       "    <tr>\n",
       "      <th>1</th>\n",
       "      <td>2015</td>\n",
       "      <td>Kia</td>\n",
       "      <td>Sorento</td>\n",
       "      <td>LX</td>\n",
       "      <td>SUV</td>\n",
       "      <td>automatic</td>\n",
       "      <td>ca</td>\n",
       "      <td>5.0</td>\n",
       "      <td>9393.0</td>\n",
       "      <td>white</td>\n",
       "      <td>beige</td>\n",
       "      <td>kia motors america  inc</td>\n",
       "      <td>20800.0</td>\n",
       "      <td>21500.0</td>\n",
       "      <td>Tue Dec 16 2014 12:30:00 GMT-0800 (PST)</td>\n",
       "    </tr>\n",
       "    <tr>\n",
       "      <th>2</th>\n",
       "      <td>2014</td>\n",
       "      <td>BMW</td>\n",
       "      <td>3 Series</td>\n",
       "      <td>328i SULEV</td>\n",
       "      <td>Sedan</td>\n",
       "      <td>automatic</td>\n",
       "      <td>ca</td>\n",
       "      <td>45.0</td>\n",
       "      <td>1331.0</td>\n",
       "      <td>gray</td>\n",
       "      <td>black</td>\n",
       "      <td>financial services remarketing (lease)</td>\n",
       "      <td>31900.0</td>\n",
       "      <td>30000.0</td>\n",
       "      <td>Thu Jan 15 2015 04:30:00 GMT-0800 (PST)</td>\n",
       "    </tr>\n",
       "    <tr>\n",
       "      <th>3</th>\n",
       "      <td>2015</td>\n",
       "      <td>Volvo</td>\n",
       "      <td>S60</td>\n",
       "      <td>T5</td>\n",
       "      <td>Sedan</td>\n",
       "      <td>automatic</td>\n",
       "      <td>ca</td>\n",
       "      <td>41.0</td>\n",
       "      <td>14282.0</td>\n",
       "      <td>white</td>\n",
       "      <td>black</td>\n",
       "      <td>volvo na rep/world omni</td>\n",
       "      <td>27500.0</td>\n",
       "      <td>27750.0</td>\n",
       "      <td>Thu Jan 29 2015 04:30:00 GMT-0800 (PST)</td>\n",
       "    </tr>\n",
       "    <tr>\n",
       "      <th>4</th>\n",
       "      <td>2014</td>\n",
       "      <td>BMW</td>\n",
       "      <td>6 Series Gran Coupe</td>\n",
       "      <td>650i</td>\n",
       "      <td>Sedan</td>\n",
       "      <td>automatic</td>\n",
       "      <td>ca</td>\n",
       "      <td>43.0</td>\n",
       "      <td>2641.0</td>\n",
       "      <td>gray</td>\n",
       "      <td>black</td>\n",
       "      <td>financial services remarketing (lease)</td>\n",
       "      <td>66000.0</td>\n",
       "      <td>67000.0</td>\n",
       "      <td>Thu Dec 18 2014 12:30:00 GMT-0800 (PST)</td>\n",
       "    </tr>\n",
       "  </tbody>\n",
       "</table>\n",
       "</div>"
      ],
      "text/plain": [
       "   year   make                model        trim   body transmission state  \\\n",
       "0  2015    Kia              Sorento          LX    SUV    automatic    ca   \n",
       "1  2015    Kia              Sorento          LX    SUV    automatic    ca   \n",
       "2  2014    BMW             3 Series  328i SULEV  Sedan    automatic    ca   \n",
       "3  2015  Volvo                  S60          T5  Sedan    automatic    ca   \n",
       "4  2014    BMW  6 Series Gran Coupe        650i  Sedan    automatic    ca   \n",
       "\n",
       "   condition  odometer  color interior  \\\n",
       "0        5.0   16639.0  white    black   \n",
       "1        5.0    9393.0  white    beige   \n",
       "2       45.0    1331.0   gray    black   \n",
       "3       41.0   14282.0  white    black   \n",
       "4       43.0    2641.0   gray    black   \n",
       "\n",
       "                                   seller      mmr  sellingprice  \\\n",
       "0                 kia motors america  inc  20500.0       21500.0   \n",
       "1                 kia motors america  inc  20800.0       21500.0   \n",
       "2  financial services remarketing (lease)  31900.0       30000.0   \n",
       "3                 volvo na rep/world omni  27500.0       27750.0   \n",
       "4  financial services remarketing (lease)  66000.0       67000.0   \n",
       "\n",
       "                                  saledate  \n",
       "0  Tue Dec 16 2014 12:30:00 GMT-0800 (PST)  \n",
       "1  Tue Dec 16 2014 12:30:00 GMT-0800 (PST)  \n",
       "2  Thu Jan 15 2015 04:30:00 GMT-0800 (PST)  \n",
       "3  Thu Jan 29 2015 04:30:00 GMT-0800 (PST)  \n",
       "4  Thu Dec 18 2014 12:30:00 GMT-0800 (PST)  "
      ]
     },
     "execution_count": 233,
     "metadata": {},
     "output_type": "execute_result"
    }
   ],
   "source": [
    "df.head()"
   ]
  },
  {
   "cell_type": "code",
   "execution_count": 234,
   "id": "987fbf11-dd51-40d3-a273-d63ade8b6e08",
   "metadata": {},
   "outputs": [
    {
     "data": {
      "text/plain": [
       "35.0"
      ]
     },
     "execution_count": 234,
     "metadata": {},
     "output_type": "execute_result"
    }
   ],
   "source": [
    "median_value_condition = df['condition'].median()\n",
    "median_value_condition"
   ]
  },
  {
   "cell_type": "code",
   "execution_count": 235,
   "id": "714f7ba2-6c99-48d4-a018-e1616bef776d",
   "metadata": {},
   "outputs": [],
   "source": [
    "df[\"condition\"].replace(np.nan, median_value_condition, inplace=True)"
   ]
  },
  {
   "cell_type": "code",
   "execution_count": 236,
   "id": "37a0f4d3-9c52-4cf4-b658-58b367a251d1",
   "metadata": {},
   "outputs": [
    {
     "data": {
      "text/plain": [
       "52254.0"
      ]
     },
     "execution_count": 236,
     "metadata": {},
     "output_type": "execute_result"
    }
   ],
   "source": [
    "median_value_odometer = df['odometer'].median()\n",
    "median_value_odometer"
   ]
  },
  {
   "cell_type": "code",
   "execution_count": 237,
   "id": "3f8627bc-db1a-44e5-89ca-fec2dfa6bf61",
   "metadata": {},
   "outputs": [],
   "source": [
    "df[\"odometer\"].replace(np.nan, median_value_odometer, inplace=True)"
   ]
  },
  {
   "cell_type": "code",
   "execution_count": 238,
   "id": "9debf6a4-39c9-4bdb-bda9-c24619085296",
   "metadata": {},
   "outputs": [],
   "source": [
    "most_frequent_word_color = df['color'].mode()[0]"
   ]
  },
  {
   "cell_type": "code",
   "execution_count": 239,
   "id": "becc2ba4-590f-4000-a9c1-e28ca0f9f52a",
   "metadata": {},
   "outputs": [
    {
     "data": {
      "text/plain": [
       "'black'"
      ]
     },
     "execution_count": 239,
     "metadata": {},
     "output_type": "execute_result"
    }
   ],
   "source": [
    "most_frequent_word_color"
   ]
  },
  {
   "cell_type": "code",
   "execution_count": 240,
   "id": "36752233-dbc9-4872-8a66-c92ad395ce3b",
   "metadata": {},
   "outputs": [],
   "source": [
    "df['color'] = df['color'].fillna(most_frequent_word_color)"
   ]
  },
  {
   "cell_type": "code",
   "execution_count": 241,
   "id": "376e3b2f-b842-41a6-809e-e7be4d644397",
   "metadata": {},
   "outputs": [],
   "source": [
    "most_frequent_word_interior= df['interior'].mode()[0]"
   ]
  },
  {
   "cell_type": "code",
   "execution_count": 242,
   "id": "9a5589e8-ed74-4bf3-9976-4b966f5d5c8a",
   "metadata": {},
   "outputs": [
    {
     "data": {
      "text/plain": [
       "'black'"
      ]
     },
     "execution_count": 242,
     "metadata": {},
     "output_type": "execute_result"
    }
   ],
   "source": [
    "most_frequent_word_interior"
   ]
  },
  {
   "cell_type": "code",
   "execution_count": 243,
   "id": "64db9443-2089-4de5-b2c0-092ecebc77ce",
   "metadata": {},
   "outputs": [],
   "source": [
    "df['interior'] = df['interior'].fillna(most_frequent_word_interior)"
   ]
  },
  {
   "cell_type": "code",
   "execution_count": 244,
   "id": "39d1a525-27f8-40f6-8bb9-15e0d50e9398",
   "metadata": {},
   "outputs": [
    {
     "data": {
      "text/plain": [
       "12250.0"
      ]
     },
     "execution_count": 244,
     "metadata": {},
     "output_type": "execute_result"
    }
   ],
   "source": [
    "median_value_mmr = df['mmr'].median()\n",
    "median_value_mmr"
   ]
  },
  {
   "cell_type": "code",
   "execution_count": 245,
   "id": "e6bda1b4-80cb-44f9-b97d-e037e52a2507",
   "metadata": {},
   "outputs": [],
   "source": [
    "df[\"mmr\"].replace(np.nan, median_value_mmr, inplace=True)"
   ]
  },
  {
   "cell_type": "code",
   "execution_count": 246,
   "id": "e2ec7653-024b-4e37-81ce-fa5f8383be07",
   "metadata": {},
   "outputs": [
    {
     "data": {
      "text/plain": [
       "12100.0"
      ]
     },
     "execution_count": 246,
     "metadata": {},
     "output_type": "execute_result"
    }
   ],
   "source": [
    "median_value_sellingprice = df['sellingprice'].median()\n",
    "median_value_sellingprice"
   ]
  },
  {
   "cell_type": "code",
   "execution_count": 247,
   "id": "828880bc-4d19-4713-ab74-677d63b04927",
   "metadata": {},
   "outputs": [],
   "source": [
    "df[\"sellingprice\"].replace(np.nan, median_value_sellingprice, inplace=True)"
   ]
  },
  {
   "cell_type": "code",
   "execution_count": 248,
   "id": "b9b593d3-e693-4423-b2b6-7b33dcbbf3d2",
   "metadata": {},
   "outputs": [],
   "source": [
    "most_frequent_word_saledate = df['saledate'].mode()[0]"
   ]
  },
  {
   "cell_type": "code",
   "execution_count": 249,
   "id": "bf7f5fa6-a1f3-498d-9209-17e137583933",
   "metadata": {},
   "outputs": [
    {
     "data": {
      "text/plain": [
       "'Tue Feb 10 2015 01:30:00 GMT-0800 (PST)'"
      ]
     },
     "execution_count": 249,
     "metadata": {},
     "output_type": "execute_result"
    }
   ],
   "source": [
    "most_frequent_word_saledate"
   ]
  },
  {
   "cell_type": "code",
   "execution_count": 250,
   "id": "4b8dfc25-df23-450b-8c1f-1dda0e7ecd68",
   "metadata": {},
   "outputs": [],
   "source": [
    "df['saledate'] = df['saledate'].fillna(most_frequent_word_saledate)"
   ]
  },
  {
   "cell_type": "code",
   "execution_count": 251,
   "id": "266a968c-4f99-4318-9bba-9e555d931bfa",
   "metadata": {},
   "outputs": [
    {
     "name": "stdout",
     "output_type": "stream",
     "text": [
      "year\n",
      "year\n",
      "False    558837\n",
      "Name: count, dtype: int64\n",
      "\n",
      "make\n",
      "make\n",
      "False    558837\n",
      "Name: count, dtype: int64\n",
      "\n",
      "model\n",
      "model\n",
      "False    558837\n",
      "Name: count, dtype: int64\n",
      "\n",
      "trim\n",
      "trim\n",
      "False    558837\n",
      "Name: count, dtype: int64\n",
      "\n",
      "body\n",
      "body\n",
      "False    558837\n",
      "Name: count, dtype: int64\n",
      "\n",
      "transmission\n",
      "transmission\n",
      "False    558837\n",
      "Name: count, dtype: int64\n",
      "\n",
      "state\n",
      "state\n",
      "False    558837\n",
      "Name: count, dtype: int64\n",
      "\n",
      "condition\n",
      "condition\n",
      "False    558837\n",
      "Name: count, dtype: int64\n",
      "\n",
      "odometer\n",
      "odometer\n",
      "False    558837\n",
      "Name: count, dtype: int64\n",
      "\n",
      "color\n",
      "color\n",
      "False    558837\n",
      "Name: count, dtype: int64\n",
      "\n",
      "interior\n",
      "interior\n",
      "False    558837\n",
      "Name: count, dtype: int64\n",
      "\n",
      "seller\n",
      "seller\n",
      "False    558837\n",
      "Name: count, dtype: int64\n",
      "\n",
      "mmr\n",
      "mmr\n",
      "False    558837\n",
      "Name: count, dtype: int64\n",
      "\n",
      "sellingprice\n",
      "sellingprice\n",
      "False    558837\n",
      "Name: count, dtype: int64\n",
      "\n",
      "saledate\n",
      "saledate\n",
      "False    558837\n",
      "Name: count, dtype: int64\n",
      "\n"
     ]
    }
   ],
   "source": [
    "Data_Frame = df\n",
    "DF = Data_Frame.isnull()\n",
    "for column in DF.columns.values.tolist():\n",
    "    print(column)\n",
    "    print (DF[column].value_counts())\n",
    "    print(\"\")"
   ]
  },
  {
   "cell_type": "code",
   "execution_count": 253,
   "id": "add905fa-636f-4dd6-95c4-87c4971ccfbb",
   "metadata": {},
   "outputs": [
    {
     "data": {
      "text/html": [
       "<div>\n",
       "<style scoped>\n",
       "    .dataframe tbody tr th:only-of-type {\n",
       "        vertical-align: middle;\n",
       "    }\n",
       "\n",
       "    .dataframe tbody tr th {\n",
       "        vertical-align: top;\n",
       "    }\n",
       "\n",
       "    .dataframe thead th {\n",
       "        text-align: right;\n",
       "    }\n",
       "</style>\n",
       "<table border=\"1\" class=\"dataframe\">\n",
       "  <thead>\n",
       "    <tr style=\"text-align: right;\">\n",
       "      <th></th>\n",
       "      <th>year</th>\n",
       "      <th>condition</th>\n",
       "      <th>odometer</th>\n",
       "      <th>mmr</th>\n",
       "      <th>sellingprice</th>\n",
       "    </tr>\n",
       "  </thead>\n",
       "  <tbody>\n",
       "    <tr>\n",
       "      <th>count</th>\n",
       "      <td>558837.000000</td>\n",
       "      <td>558837.000000</td>\n",
       "      <td>558837.000000</td>\n",
       "      <td>558837.000000</td>\n",
       "      <td>558837.000000</td>\n",
       "    </tr>\n",
       "    <tr>\n",
       "      <th>mean</th>\n",
       "      <td>2010.038927</td>\n",
       "      <td>30.763899</td>\n",
       "      <td>68317.315359</td>\n",
       "      <td>13769.274180</td>\n",
       "      <td>13611.326356</td>\n",
       "    </tr>\n",
       "    <tr>\n",
       "      <th>std</th>\n",
       "      <td>3.966864</td>\n",
       "      <td>13.274944</td>\n",
       "      <td>53394.458135</td>\n",
       "      <td>9679.646165</td>\n",
       "      <td>9749.399466</td>\n",
       "    </tr>\n",
       "    <tr>\n",
       "      <th>min</th>\n",
       "      <td>1982.000000</td>\n",
       "      <td>1.000000</td>\n",
       "      <td>1.000000</td>\n",
       "      <td>25.000000</td>\n",
       "      <td>1.000000</td>\n",
       "    </tr>\n",
       "    <tr>\n",
       "      <th>25%</th>\n",
       "      <td>2007.000000</td>\n",
       "      <td>24.000000</td>\n",
       "      <td>28375.000000</td>\n",
       "      <td>7100.000000</td>\n",
       "      <td>6900.000000</td>\n",
       "    </tr>\n",
       "    <tr>\n",
       "      <th>50%</th>\n",
       "      <td>2012.000000</td>\n",
       "      <td>35.000000</td>\n",
       "      <td>52254.000000</td>\n",
       "      <td>12250.000000</td>\n",
       "      <td>12100.000000</td>\n",
       "    </tr>\n",
       "    <tr>\n",
       "      <th>75%</th>\n",
       "      <td>2013.000000</td>\n",
       "      <td>41.000000</td>\n",
       "      <td>99103.000000</td>\n",
       "      <td>18300.000000</td>\n",
       "      <td>18200.000000</td>\n",
       "    </tr>\n",
       "    <tr>\n",
       "      <th>max</th>\n",
       "      <td>2015.000000</td>\n",
       "      <td>49.000000</td>\n",
       "      <td>999999.000000</td>\n",
       "      <td>182000.000000</td>\n",
       "      <td>230000.000000</td>\n",
       "    </tr>\n",
       "  </tbody>\n",
       "</table>\n",
       "</div>"
      ],
      "text/plain": [
       "                year      condition       odometer            mmr  \\\n",
       "count  558837.000000  558837.000000  558837.000000  558837.000000   \n",
       "mean     2010.038927      30.763899   68317.315359   13769.274180   \n",
       "std         3.966864      13.274944   53394.458135    9679.646165   \n",
       "min      1982.000000       1.000000       1.000000      25.000000   \n",
       "25%      2007.000000      24.000000   28375.000000    7100.000000   \n",
       "50%      2012.000000      35.000000   52254.000000   12250.000000   \n",
       "75%      2013.000000      41.000000   99103.000000   18300.000000   \n",
       "max      2015.000000      49.000000  999999.000000  182000.000000   \n",
       "\n",
       "        sellingprice  \n",
       "count  558837.000000  \n",
       "mean    13611.326356  \n",
       "std      9749.399466  \n",
       "min         1.000000  \n",
       "25%      6900.000000  \n",
       "50%     12100.000000  \n",
       "75%     18200.000000  \n",
       "max    230000.000000  "
      ]
     },
     "execution_count": 253,
     "metadata": {},
     "output_type": "execute_result"
    }
   ],
   "source": [
    "df.describe()"
   ]
  },
  {
   "cell_type": "code",
   "execution_count": 254,
   "id": "60bb5d31-a481-48ff-8e87-9718c01543e4",
   "metadata": {},
   "outputs": [
    {
     "data": {
      "text/html": [
       "<div>\n",
       "<style scoped>\n",
       "    .dataframe tbody tr th:only-of-type {\n",
       "        vertical-align: middle;\n",
       "    }\n",
       "\n",
       "    .dataframe tbody tr th {\n",
       "        vertical-align: top;\n",
       "    }\n",
       "\n",
       "    .dataframe thead th {\n",
       "        text-align: right;\n",
       "    }\n",
       "</style>\n",
       "<table border=\"1\" class=\"dataframe\">\n",
       "  <thead>\n",
       "    <tr style=\"text-align: right;\">\n",
       "      <th></th>\n",
       "      <th>year</th>\n",
       "      <th>make</th>\n",
       "      <th>model</th>\n",
       "      <th>trim</th>\n",
       "      <th>body</th>\n",
       "      <th>transmission</th>\n",
       "      <th>state</th>\n",
       "      <th>condition</th>\n",
       "      <th>odometer</th>\n",
       "      <th>color</th>\n",
       "      <th>interior</th>\n",
       "      <th>seller</th>\n",
       "      <th>mmr</th>\n",
       "      <th>sellingprice</th>\n",
       "      <th>saledate</th>\n",
       "    </tr>\n",
       "  </thead>\n",
       "  <tbody>\n",
       "    <tr>\n",
       "      <th>count</th>\n",
       "      <td>558837.000000</td>\n",
       "      <td>558837</td>\n",
       "      <td>558837</td>\n",
       "      <td>558837</td>\n",
       "      <td>558837</td>\n",
       "      <td>558837</td>\n",
       "      <td>558837</td>\n",
       "      <td>558837.000000</td>\n",
       "      <td>558837.000000</td>\n",
       "      <td>558837</td>\n",
       "      <td>558837</td>\n",
       "      <td>558837</td>\n",
       "      <td>558837.000000</td>\n",
       "      <td>558837.000000</td>\n",
       "      <td>558837</td>\n",
       "    </tr>\n",
       "    <tr>\n",
       "      <th>unique</th>\n",
       "      <td>NaN</td>\n",
       "      <td>96</td>\n",
       "      <td>973</td>\n",
       "      <td>1963</td>\n",
       "      <td>87</td>\n",
       "      <td>4</td>\n",
       "      <td>64</td>\n",
       "      <td>NaN</td>\n",
       "      <td>NaN</td>\n",
       "      <td>46</td>\n",
       "      <td>17</td>\n",
       "      <td>14263</td>\n",
       "      <td>NaN</td>\n",
       "      <td>NaN</td>\n",
       "      <td>3766</td>\n",
       "    </tr>\n",
       "    <tr>\n",
       "      <th>top</th>\n",
       "      <td>NaN</td>\n",
       "      <td>Ford</td>\n",
       "      <td>Altima</td>\n",
       "      <td>Base</td>\n",
       "      <td>Sedan</td>\n",
       "      <td>automatic</td>\n",
       "      <td>fl</td>\n",
       "      <td>NaN</td>\n",
       "      <td>NaN</td>\n",
       "      <td>black</td>\n",
       "      <td>black</td>\n",
       "      <td>nissan-infiniti lt</td>\n",
       "      <td>NaN</td>\n",
       "      <td>NaN</td>\n",
       "      <td>Tue Feb 10 2015 01:30:00 GMT-0800 (PST)</td>\n",
       "    </tr>\n",
       "    <tr>\n",
       "      <th>freq</th>\n",
       "      <td>NaN</td>\n",
       "      <td>103855</td>\n",
       "      <td>29748</td>\n",
       "      <td>66468</td>\n",
       "      <td>212632</td>\n",
       "      <td>541267</td>\n",
       "      <td>82945</td>\n",
       "      <td>NaN</td>\n",
       "      <td>NaN</td>\n",
       "      <td>111719</td>\n",
       "      <td>245078</td>\n",
       "      <td>19693</td>\n",
       "      <td>NaN</td>\n",
       "      <td>NaN</td>\n",
       "      <td>5346</td>\n",
       "    </tr>\n",
       "    <tr>\n",
       "      <th>mean</th>\n",
       "      <td>2010.038927</td>\n",
       "      <td>NaN</td>\n",
       "      <td>NaN</td>\n",
       "      <td>NaN</td>\n",
       "      <td>NaN</td>\n",
       "      <td>NaN</td>\n",
       "      <td>NaN</td>\n",
       "      <td>30.763899</td>\n",
       "      <td>68317.315359</td>\n",
       "      <td>NaN</td>\n",
       "      <td>NaN</td>\n",
       "      <td>NaN</td>\n",
       "      <td>13769.274180</td>\n",
       "      <td>13611.326356</td>\n",
       "      <td>NaN</td>\n",
       "    </tr>\n",
       "    <tr>\n",
       "      <th>std</th>\n",
       "      <td>3.966864</td>\n",
       "      <td>NaN</td>\n",
       "      <td>NaN</td>\n",
       "      <td>NaN</td>\n",
       "      <td>NaN</td>\n",
       "      <td>NaN</td>\n",
       "      <td>NaN</td>\n",
       "      <td>13.274944</td>\n",
       "      <td>53394.458135</td>\n",
       "      <td>NaN</td>\n",
       "      <td>NaN</td>\n",
       "      <td>NaN</td>\n",
       "      <td>9679.646165</td>\n",
       "      <td>9749.399466</td>\n",
       "      <td>NaN</td>\n",
       "    </tr>\n",
       "    <tr>\n",
       "      <th>min</th>\n",
       "      <td>1982.000000</td>\n",
       "      <td>NaN</td>\n",
       "      <td>NaN</td>\n",
       "      <td>NaN</td>\n",
       "      <td>NaN</td>\n",
       "      <td>NaN</td>\n",
       "      <td>NaN</td>\n",
       "      <td>1.000000</td>\n",
       "      <td>1.000000</td>\n",
       "      <td>NaN</td>\n",
       "      <td>NaN</td>\n",
       "      <td>NaN</td>\n",
       "      <td>25.000000</td>\n",
       "      <td>1.000000</td>\n",
       "      <td>NaN</td>\n",
       "    </tr>\n",
       "    <tr>\n",
       "      <th>25%</th>\n",
       "      <td>2007.000000</td>\n",
       "      <td>NaN</td>\n",
       "      <td>NaN</td>\n",
       "      <td>NaN</td>\n",
       "      <td>NaN</td>\n",
       "      <td>NaN</td>\n",
       "      <td>NaN</td>\n",
       "      <td>24.000000</td>\n",
       "      <td>28375.000000</td>\n",
       "      <td>NaN</td>\n",
       "      <td>NaN</td>\n",
       "      <td>NaN</td>\n",
       "      <td>7100.000000</td>\n",
       "      <td>6900.000000</td>\n",
       "      <td>NaN</td>\n",
       "    </tr>\n",
       "    <tr>\n",
       "      <th>50%</th>\n",
       "      <td>2012.000000</td>\n",
       "      <td>NaN</td>\n",
       "      <td>NaN</td>\n",
       "      <td>NaN</td>\n",
       "      <td>NaN</td>\n",
       "      <td>NaN</td>\n",
       "      <td>NaN</td>\n",
       "      <td>35.000000</td>\n",
       "      <td>52254.000000</td>\n",
       "      <td>NaN</td>\n",
       "      <td>NaN</td>\n",
       "      <td>NaN</td>\n",
       "      <td>12250.000000</td>\n",
       "      <td>12100.000000</td>\n",
       "      <td>NaN</td>\n",
       "    </tr>\n",
       "    <tr>\n",
       "      <th>75%</th>\n",
       "      <td>2013.000000</td>\n",
       "      <td>NaN</td>\n",
       "      <td>NaN</td>\n",
       "      <td>NaN</td>\n",
       "      <td>NaN</td>\n",
       "      <td>NaN</td>\n",
       "      <td>NaN</td>\n",
       "      <td>41.000000</td>\n",
       "      <td>99103.000000</td>\n",
       "      <td>NaN</td>\n",
       "      <td>NaN</td>\n",
       "      <td>NaN</td>\n",
       "      <td>18300.000000</td>\n",
       "      <td>18200.000000</td>\n",
       "      <td>NaN</td>\n",
       "    </tr>\n",
       "    <tr>\n",
       "      <th>max</th>\n",
       "      <td>2015.000000</td>\n",
       "      <td>NaN</td>\n",
       "      <td>NaN</td>\n",
       "      <td>NaN</td>\n",
       "      <td>NaN</td>\n",
       "      <td>NaN</td>\n",
       "      <td>NaN</td>\n",
       "      <td>49.000000</td>\n",
       "      <td>999999.000000</td>\n",
       "      <td>NaN</td>\n",
       "      <td>NaN</td>\n",
       "      <td>NaN</td>\n",
       "      <td>182000.000000</td>\n",
       "      <td>230000.000000</td>\n",
       "      <td>NaN</td>\n",
       "    </tr>\n",
       "  </tbody>\n",
       "</table>\n",
       "</div>"
      ],
      "text/plain": [
       "                 year    make   model    trim    body transmission   state  \\\n",
       "count   558837.000000  558837  558837  558837  558837       558837  558837   \n",
       "unique            NaN      96     973    1963      87            4      64   \n",
       "top               NaN    Ford  Altima    Base   Sedan    automatic      fl   \n",
       "freq              NaN  103855   29748   66468  212632       541267   82945   \n",
       "mean      2010.038927     NaN     NaN     NaN     NaN          NaN     NaN   \n",
       "std          3.966864     NaN     NaN     NaN     NaN          NaN     NaN   \n",
       "min       1982.000000     NaN     NaN     NaN     NaN          NaN     NaN   \n",
       "25%       2007.000000     NaN     NaN     NaN     NaN          NaN     NaN   \n",
       "50%       2012.000000     NaN     NaN     NaN     NaN          NaN     NaN   \n",
       "75%       2013.000000     NaN     NaN     NaN     NaN          NaN     NaN   \n",
       "max       2015.000000     NaN     NaN     NaN     NaN          NaN     NaN   \n",
       "\n",
       "            condition       odometer   color interior              seller  \\\n",
       "count   558837.000000  558837.000000  558837   558837              558837   \n",
       "unique            NaN            NaN      46       17               14263   \n",
       "top               NaN            NaN   black    black  nissan-infiniti lt   \n",
       "freq              NaN            NaN  111719   245078               19693   \n",
       "mean        30.763899   68317.315359     NaN      NaN                 NaN   \n",
       "std         13.274944   53394.458135     NaN      NaN                 NaN   \n",
       "min          1.000000       1.000000     NaN      NaN                 NaN   \n",
       "25%         24.000000   28375.000000     NaN      NaN                 NaN   \n",
       "50%         35.000000   52254.000000     NaN      NaN                 NaN   \n",
       "75%         41.000000   99103.000000     NaN      NaN                 NaN   \n",
       "max         49.000000  999999.000000     NaN      NaN                 NaN   \n",
       "\n",
       "                  mmr   sellingprice                                 saledate  \n",
       "count   558837.000000  558837.000000                                   558837  \n",
       "unique            NaN            NaN                                     3766  \n",
       "top               NaN            NaN  Tue Feb 10 2015 01:30:00 GMT-0800 (PST)  \n",
       "freq              NaN            NaN                                     5346  \n",
       "mean     13769.274180   13611.326356                                      NaN  \n",
       "std       9679.646165    9749.399466                                      NaN  \n",
       "min         25.000000       1.000000                                      NaN  \n",
       "25%       7100.000000    6900.000000                                      NaN  \n",
       "50%      12250.000000   12100.000000                                      NaN  \n",
       "75%      18300.000000   18200.000000                                      NaN  \n",
       "max     182000.000000  230000.000000                                      NaN  "
      ]
     },
     "execution_count": 254,
     "metadata": {},
     "output_type": "execute_result"
    }
   ],
   "source": [
    "df.describe(include='all')"
   ]
  },
  {
   "cell_type": "code",
   "execution_count": 255,
   "id": "bf46f12b-96bc-4797-8bde-2a92ad37ac7a",
   "metadata": {},
   "outputs": [
    {
     "name": "stdout",
     "output_type": "stream",
     "text": [
      "<class 'pandas.core.frame.DataFrame'>\n",
      "RangeIndex: 558837 entries, 0 to 558836\n",
      "Data columns (total 15 columns):\n",
      " #   Column        Non-Null Count   Dtype  \n",
      "---  ------        --------------   -----  \n",
      " 0   year          558837 non-null  int64  \n",
      " 1   make          558837 non-null  object \n",
      " 2   model         558837 non-null  object \n",
      " 3   trim          558837 non-null  object \n",
      " 4   body          558837 non-null  object \n",
      " 5   transmission  558837 non-null  object \n",
      " 6   state         558837 non-null  object \n",
      " 7   condition     558837 non-null  float64\n",
      " 8   odometer      558837 non-null  float64\n",
      " 9   color         558837 non-null  object \n",
      " 10  interior      558837 non-null  object \n",
      " 11  seller        558837 non-null  object \n",
      " 12  mmr           558837 non-null  float64\n",
      " 13  sellingprice  558837 non-null  float64\n",
      " 14  saledate      558837 non-null  object \n",
      "dtypes: float64(4), int64(1), object(10)\n",
      "memory usage: 64.0+ MB\n"
     ]
    }
   ],
   "source": [
    "df.info()"
   ]
  },
  {
   "cell_type": "code",
   "execution_count": 256,
   "id": "ca4686c2-e20c-4eb6-81a3-e1dc2da45f0f",
   "metadata": {},
   "outputs": [
    {
     "name": "stdout",
     "output_type": "stream",
     "text": [
      "Best selling cars:\n",
      " make\n",
      "Ford             1.452673e+09\n",
      "Chevrolet        7.210034e+08\n",
      "Nissan           6.332730e+08\n",
      "Toyota           4.883927e+08\n",
      "BMW              4.442546e+08\n",
      "Mercedes-Benz    3.700839e+08\n",
      "Dodge            3.441627e+08\n",
      "Infiniti         3.124892e+08\n",
      "Honda            2.976454e+08\n",
      "Lexus            2.406151e+08\n",
      "Name: sellingprice, dtype: float64\n"
     ]
    }
   ],
   "source": [
    "best_selling_cars = df.groupby('make')['sellingprice'].sum().nlargest(10)\n",
    "print(\"Best selling cars:\\n\", best_selling_cars)"
   ]
  },
  {
   "cell_type": "code",
   "execution_count": 257,
   "id": "3531fccd-c679-415f-8c6a-2ad4aefeef0c",
   "metadata": {},
   "outputs": [
    {
     "data": {
      "image/png": "[encoded data removed]",
      "text/plain": [
       "<Figure size 1200x600 with 1 Axes>"
      ]
     },
     "metadata": {},
     "output_type": "display_data"
    }
   ],
   "source": [
    "import matplotlib.pyplot as plt\n",
    "\n",
    "# Convert the Series to a DataFrame\n",
    "best_selling_cars_df = best_selling_cars.reset_index(name='total_selling_price')\n",
    "\n",
    "# Create a bar chart\n",
    "plt.figure(figsize=(12, 6))\n",
    "plt.bar(best_selling_cars_df['make'], best_selling_cars_df['total_selling_price'], color='skyblue')\n",
    "plt.xlabel('Car Make')\n",
    "plt.ylabel('Total Selling Price')\n",
    "plt.title('Top 10 Best Selling Cars by Total Selling Price')\n",
    "plt.xticks(rotation=45, ha='right')\n",
    "plt.tight_layout()\n",
    "plt.show()"
   ]
  },
  {
   "cell_type": "code",
   "execution_count": 258,
   "id": "ee6574c6-6fae-40f2-aa17-47d962547deb",
   "metadata": {},
   "outputs": [
    {
     "name": "stdout",
     "output_type": "stream",
     "text": [
      "Ford: $1452672790.00\n",
      "Chevrolet: $721003399.00\n",
      "Nissan: $633272955.00\n",
      "Toyota: $488392710.00\n",
      "BMW: $444254638.00\n",
      "Mercedes-Benz: $370083906.00\n",
      "Dodge: $344162694.00\n",
      "Infiniti: $312489190.00\n",
      "Honda: $297645409.00\n",
      "Lexus: $240615055.00\n"
     ]
    }
   ],
   "source": [
    "# Assuming 'best_selling_cars' is the result you obtained\n",
    "for make, total_selling_price in best_selling_cars.items():\n",
    "    print(f\"{make}: ${total_selling_price:.2f}\")"
   ]
  },
  {
   "cell_type": "code",
   "execution_count": 259,
   "id": "3ebb9ac4-ca4b-4220-8d18-aac9c9f2de64",
   "metadata": {},
   "outputs": [
    {
     "name": "stdout",
     "output_type": "stream",
     "text": [
      "Focus on best-selling makes: ['Ford', 'Chevrolet', 'Nissan', 'Toyota', 'BMW']\n",
      "Diversified inventory:\n",
      "        year       make                model        trim       body  \\\n",
      "2       2014        BMW             3 Series  328i SULEV      Sedan   \n",
      "4       2014        BMW  6 Series Gran Coupe        650i      Sedan   \n",
      "5       2015     Nissan               Altima       2.5 S      Sedan   \n",
      "6       2014        BMW                   M5        Base      Sedan   \n",
      "7       2014  Chevrolet                Cruze         1LT      Sedan   \n",
      "...      ...        ...                  ...         ...        ...   \n",
      "558830  2012     Nissan               Sentra      2.0 SR      Sedan   \n",
      "558831  2011        BMW             5 Series        528i      Sedan   \n",
      "558834  2012        BMW                   X5   xDrive35d        SUV   \n",
      "558835  2015     Nissan               Altima       2.5 S      sedan   \n",
      "558836  2014       Ford                F-150         XLT  SuperCrew   \n",
      "\n",
      "       transmission state  condition  odometer  color interior  \\\n",
      "2         automatic    ca       45.0    1331.0   gray    black   \n",
      "4         automatic    ca       43.0    2641.0   gray    black   \n",
      "5         automatic    ca        1.0    5554.0   gray    black   \n",
      "6         automatic    ca       34.0   14943.0  black    black   \n",
      "7         automatic    ca        2.0   28617.0  black    black   \n",
      "...             ...   ...        ...       ...    ...      ...   \n",
      "558830    automatic    tn       26.0   35858.0  white     gray   \n",
      "558831    automatic    fl       39.0   66403.0  white    brown   \n",
      "558834    automatic    ca       48.0   50561.0  black    black   \n",
      "558835    automatic    ga       38.0   16658.0  white    black   \n",
      "558836    automatic    ca       34.0   15008.0   gray     gray   \n",
      "\n",
      "                                                   seller      mmr  \\\n",
      "2                  financial services remarketing (lease)  31900.0   \n",
      "4                  financial services remarketing (lease)  66000.0   \n",
      "5       enterprise vehicle exchange / tra / rental / t...  15350.0   \n",
      "6                                   the hertz corporation  69000.0   \n",
      "7       enterprise vehicle exchange / tra / rental / t...  11900.0   \n",
      "...                                                   ...      ...   \n",
      "558830                                 nissan-infiniti lt   9950.0   \n",
      "558831           lauderdale imports ltd bmw pembrok pines  20300.0   \n",
      "558834             financial services remarketing (lease)  29800.0   \n",
      "558835  enterprise vehicle exchange / tra / rental / t...  15100.0   \n",
      "558836                   ford motor credit company llc pd  29600.0   \n",
      "\n",
      "        sellingprice                                 saledate  \n",
      "2            30000.0  Thu Jan 15 2015 04:30:00 GMT-0800 (PST)  \n",
      "4            67000.0  Thu Dec 18 2014 12:30:00 GMT-0800 (PST)  \n",
      "5            10900.0  Tue Dec 30 2014 12:00:00 GMT-0800 (PST)  \n",
      "6            65000.0  Wed Dec 17 2014 12:30:00 GMT-0800 (PST)  \n",
      "7             9800.0  Tue Dec 16 2014 13:00:00 GMT-0800 (PST)  \n",
      "...              ...                                      ...  \n",
      "558830       10400.0  Wed Jul 08 2015 17:15:00 GMT-0700 (PDT)  \n",
      "558831       22800.0  Tue Jul 07 2015 06:15:00 GMT-0700 (PDT)  \n",
      "558834       34000.0  Wed Jul 08 2015 09:30:00 GMT-0700 (PDT)  \n",
      "558835       11100.0  Thu Jul 09 2015 06:45:00 GMT-0700 (PDT)  \n",
      "558836       26700.0  Thu May 28 2015 05:30:00 GMT-0700 (PDT)  \n",
      "\n",
      "[278588 rows x 15 columns]\n"
     ]
    }
   ],
   "source": [
    "best_selling_makes = best_selling_cars.head(5).index.tolist()\n",
    "print(\"Focus on best-selling makes:\", best_selling_makes)\n",
    "\n",
    "diversified_inventory = df[df['make'].isin(best_selling_makes)]\n",
    "print(\"Diversified inventory:\")\n",
    "print(diversified_inventory)"
   ]
  },
  {
   "cell_type": "code",
   "execution_count": 260,
   "id": "3988dd42-5bd7-48a5-aa61-0bb05fb26ddb",
   "metadata": {},
   "outputs": [
    {
     "name": "stdout",
     "output_type": "stream",
     "text": [
      "\n",
      "Based on the interpretation of the best-selling cars, I would advise your dealer to consider the following:\n",
      "\n",
      "- Focus on Best-Selling Makes: Given that Ford, Chevrolet, Nissan, Toyota, and other top makes are selling well, prioritize stocking these makes in your inventory. These cars seem to have higher demand and could lead to more sales.\n",
      "\n",
      "- Diversify Inventory: While focusing on the best-selling makes, also consider diversifying the inventory to include a variety of models and trims within these makes. This can cater to a wider range of customer preferences and increase the chances of making a sale.\n",
      "\n",
      "- Monitor Trends: Keep an eye on market trends and adjust inventory accordingly. If certain makes or models are showing a decline in sales, consider reducing stock or offering promotions to move inventory.\n",
      "\n",
      "- Customer Preferences: Consider customer preferences and market demand in your region. While the overall best-selling makes are important, local factors can also influence sales.\n",
      "\n",
      "- Promotions and Marketing: Use the popularity of these best-selling makes in your promotions and marketing strategies. Highlighting the availability of these makes and any special offers can attract more customers.\n",
      "\n"
     ]
    }
   ],
   "source": [
    "advice = \"\"\"\n",
    "Based on the interpretation of the best-selling cars, I would advise your dealer to consider the following:\n",
    "\n",
    "- Focus on Best-Selling Makes: Given that Ford, Chevrolet, Nissan, Toyota, and other top makes are selling well, prioritize stocking these makes in your inventory. These cars seem to have higher demand and could lead to more sales.\n",
    "\n",
    "- Diversify Inventory: While focusing on the best-selling makes, also consider diversifying the inventory to include a variety of models and trims within these makes. This can cater to a wider range of customer preferences and increase the chances of making a sale.\n",
    "\n",
    "- Monitor Trends: Keep an eye on market trends and adjust inventory accordingly. If certain makes or models are showing a decline in sales, consider reducing stock or offering promotions to move inventory.\n",
    "\n",
    "- Customer Preferences: Consider customer preferences and market demand in your region. While the overall best-selling makes are important, local factors can also influence sales.\n",
    "\n",
    "- Promotions and Marketing: Use the popularity of these best-selling makes in your promotions and marketing strategies. Highlighting the availability of these makes and any special offers can attract more customers.\n",
    "\"\"\"\n",
    "\n",
    "print(advice)"
   ]
  },
  {
   "cell_type": "code",
   "execution_count": 262,
   "id": "65d67185-e872-42c5-988d-1a9d274df31d",
   "metadata": {},
   "outputs": [
    {
     "name": "stderr",
     "output_type": "stream",
     "text": [
      "C:\\Users\\User\\AppData\\Local\\Temp\\ipykernel_13480\\1720278916.py:16: UserWarning: Converting to PeriodArray/Index representation will drop timezone information.\n",
      "  df['month_year'] = df[date_column].dt.to_period('M')\n"
     ]
    },
    {
     "data": {
      "image/png": "[encoded data removed]",
      "text/plain": [
       "<Figure size 1200x600 with 1 Axes>"
      ]
     },
     "metadata": {},
     "output_type": "display_data"
    }
   ],
   "source": [
    "# Assuming 'df' is your DataFrame containing historical sales data\n",
    "# and the date column is named 'saledate'\n",
    "date_column = 'saledate'\n",
    "\n",
    "# Check if the date column is already in datetime format\n",
    "if not pd.api.types.is_datetime64_any_dtype(df[date_column]):\n",
    "    # Attempt to convert the date column to datetime\n",
    "    try:\n",
    "        df[date_column] = pd.to_datetime(df[date_column], errors='coerce')\n",
    "    except ValueError:\n",
    "        print(\"Conversion to datetime failed.\")\n",
    "\n",
    "# Check if the date column was successfully converted to datetime\n",
    "if pd.api.types.is_datetime64_any_dtype(df[date_column]):\n",
    "    # Extract month and year from the saledate column\n",
    "    df['month_year'] = df[date_column].dt.to_period('M')\n",
    "    \n",
    "    # Group by month and sum the sales\n",
    "    monthly_sales = df.groupby('month_year')['sellingprice'].sum()\n",
    "\n",
    "    # Plot the monthly sales data\n",
    "    plt.figure(figsize=(12, 6))\n",
    "    plt.plot(monthly_sales.index.astype(str), monthly_sales.values, marker='o')\n",
    "    plt.title('Monthly Sales')\n",
    "    plt.xlabel('Month')\n",
    "    plt.ylabel('Total Sales')\n",
    "    plt.xticks(rotation=45)\n",
    "    plt.grid(True)\n",
    "    plt.show()\n",
    "else:\n",
    "    print(\"Conversion to datetime failed.\")"
   ]
  },
  {
   "cell_type": "code",
   "execution_count": 263,
   "id": "1bc66384-45af-4266-a19c-decfa6a8fe8b",
   "metadata": {},
   "outputs": [
    {
     "name": "stdout",
     "output_type": "stream",
     "text": [
      "Total sales for each month:\n",
      "month_year\n",
      "2014-01    3.204525e+06\n",
      "2014-02    1.050000e+04\n",
      "2014-12    6.044342e+08\n",
      "2015-01    1.868476e+09\n",
      "2015-02    2.218998e+09\n",
      "2015-03    5.162264e+08\n",
      "Freq: M, Name: sellingprice, dtype: float64\n"
     ]
    },
    {
     "name": "stderr",
     "output_type": "stream",
     "text": [
      "C:\\Users\\User\\AppData\\Local\\Temp\\ipykernel_13480\\1705140062.py:16: UserWarning: Converting to PeriodArray/Index representation will drop timezone information.\n",
      "  df['month_year'] = df[date_column].dt.to_period('M')\n"
     ]
    }
   ],
   "source": [
    "# Assuming 'df' is your DataFrame containing historical sales data\n",
    "# and the date column is named 'saledate'\n",
    "date_column = 'saledate'\n",
    "\n",
    "# Check if the date column is already in datetime format\n",
    "if not pd.api.types.is_datetime64_any_dtype(df[date_column]):\n",
    "    # Attempt to convert the date column to datetime\n",
    "    try:\n",
    "        df[date_column] = pd.to_datetime(df[date_column], errors='coerce')\n",
    "    except ValueError:\n",
    "        print(\"Conversion to datetime failed.\")\n",
    "\n",
    "# Check if the date column was successfully converted to datetime\n",
    "if pd.api.types.is_datetime64_any_dtype(df[date_column]):\n",
    "    # Extract month and year from the saledate column\n",
    "    df['month_year'] = df[date_column].dt.to_period('M')\n",
    "    \n",
    "    # Group by month and sum the sales\n",
    "    monthly_sales = df.groupby('month_year')['sellingprice'].sum()\n",
    "\n",
    "    # Display the total sales for each month\n",
    "    print(\"Total sales for each month:\")\n",
    "    print(monthly_sales)\n",
    "else:\n",
    "    print(\"Conversion to datetime failed.\")\n"
   ]
  },
  {
   "cell_type": "code",
   "execution_count": 265,
   "id": "d6403af8-fdbd-490d-907c-1abfaf2a33eb",
   "metadata": {},
   "outputs": [
    {
     "name": "stdout",
     "output_type": "stream",
     "text": [
      "\n",
      "Interpretation:\n",
      "\n",
      "    In January 2014, the total sales were approximately 3.20 million.\n",
      "    In February 2014, the total sales were only 10,000.\n",
      "    In December 2014, the total sales surged to approximately 604.43 million.\n",
      "    In January 2015, the total sales further increased to around 1.87 billion, showing a significant jump from December 2014.\n",
      "    In February 2015, the total sales continued to increase significantly, reaching approximately 2.22 billion.\n",
      "    In March 2015, the total sales dropped to around 516.23 million, but still remained relatively high compared to earlier months.\n",
      "\n",
      "Trend:\n",
      "\n",
      "    The trend in sales shows a sharp increase from January 2014 to February 2015, with the highest sales occurring in February 2015.\n",
      "    There seems to be a seasonal pattern, with a spike in sales towards the beginning of each year (January and February), followed by a drop in March.\n",
      "    The sales in December 2014 also stand out as unusually high compared to other months, which could be due to end-of-year sales or other factors specific to that time.\n",
      "\n"
     ]
    }
   ],
   "source": [
    "Interpretation_TS = \"\"\"\n",
    "Interpretation:\n",
    "\n",
    "    In January 2014, the total sales were approximately 3.20 million.\n",
    "    In February 2014, the total sales were only 10,000.\n",
    "    In December 2014, the total sales surged to approximately 604.43 million.\n",
    "    In January 2015, the total sales further increased to around 1.87 billion, showing a significant jump from December 2014.\n",
    "    In February 2015, the total sales continued to increase significantly, reaching approximately 2.22 billion.\n",
    "    In March 2015, the total sales dropped to around 516.23 million, but still remained relatively high compared to earlier months.\n",
    "\n",
    "Trend:\n",
    "\n",
    "    The trend in sales shows a sharp increase from January 2014 to February 2015, with the highest sales occurring in February 2015.\n",
    "    There seems to be a seasonal pattern, with a spike in sales towards the beginning of each year (January and February), followed by a drop in March.\n",
    "    The sales in December 2014 also stand out as unusually high compared to other months, which could be due to end-of-year sales or other factors specific to that time.\n",
    "\"\"\"\n",
    "\n",
    "print(Interpretation_TS)"
   ]
  },
  {
   "cell_type": "code",
   "execution_count": 266,
   "id": "ecf0caf1-7098-4539-af00-3ef3fd752d5c",
   "metadata": {},
   "outputs": [
    {
     "data": {
      "image/png": "[encoded data removed]",
      "text/plain": [
       "<Figure size 1200x600 with 1 Axes>"
      ]
     },
     "metadata": {},
     "output_type": "display_data"
    },
    {
     "name": "stderr",
     "output_type": "stream",
     "text": [
      "C:\\Users\\User\\anaconda3\\lib\\site-packages\\statsmodels\\tsa\\base\\tsa_model.py:473: ValueWarning: No frequency information was provided, so inferred frequency D will be used.\n",
      "  self._init_dates(dates, freq)\n",
      "C:\\Users\\User\\anaconda3\\lib\\site-packages\\statsmodels\\tsa\\base\\tsa_model.py:473: ValueWarning: No frequency information was provided, so inferred frequency D will be used.\n",
      "  self._init_dates(dates, freq)\n",
      "C:\\Users\\User\\anaconda3\\lib\\site-packages\\statsmodels\\tsa\\base\\tsa_model.py:473: ValueWarning: No frequency information was provided, so inferred frequency D will be used.\n",
      "  self._init_dates(dates, freq)\n"
     ]
    },
    {
     "name": "stdout",
     "output_type": "stream",
     "text": [
      "Forecasted sales for the next 30 days:\n",
      "2015-03-07 00:00:00+08:00    6.641720e+07\n",
      "2015-03-08 00:00:00+08:00    7.031611e+07\n",
      "2015-03-09 00:00:00+08:00    7.245733e+07\n",
      "2015-03-10 00:00:00+08:00    7.363325e+07\n",
      "2015-03-11 00:00:00+08:00    7.427905e+07\n",
      "2015-03-12 00:00:00+08:00    7.463371e+07\n",
      "2015-03-13 00:00:00+08:00    7.482848e+07\n",
      "2015-03-14 00:00:00+08:00    7.493545e+07\n",
      "2015-03-15 00:00:00+08:00    7.499419e+07\n",
      "2015-03-16 00:00:00+08:00    7.502646e+07\n",
      "2015-03-17 00:00:00+08:00    7.504417e+07\n",
      "2015-03-18 00:00:00+08:00    7.505390e+07\n",
      "2015-03-19 00:00:00+08:00    7.505925e+07\n",
      "2015-03-20 00:00:00+08:00    7.506218e+07\n",
      "2015-03-21 00:00:00+08:00    7.506379e+07\n",
      "2015-03-22 00:00:00+08:00    7.506468e+07\n",
      "2015-03-23 00:00:00+08:00    7.506516e+07\n",
      "2015-03-24 00:00:00+08:00    7.506543e+07\n",
      "2015-03-25 00:00:00+08:00    7.506558e+07\n",
      "2015-03-26 00:00:00+08:00    7.506566e+07\n",
      "2015-03-27 00:00:00+08:00    7.506570e+07\n",
      "2015-03-28 00:00:00+08:00    7.506573e+07\n",
      "2015-03-29 00:00:00+08:00    7.506574e+07\n",
      "2015-03-30 00:00:00+08:00    7.506575e+07\n",
      "2015-03-31 00:00:00+08:00    7.506575e+07\n",
      "2015-04-01 00:00:00+08:00    7.506575e+07\n",
      "2015-04-02 00:00:00+08:00    7.506575e+07\n",
      "2015-04-03 00:00:00+08:00    7.506576e+07\n",
      "2015-04-04 00:00:00+08:00    7.506576e+07\n",
      "2015-04-05 00:00:00+08:00    7.506576e+07\n",
      "Freq: D, Name: predicted_mean, dtype: float64\n"
     ]
    }
   ],
   "source": [
    "import pandas as pd\n",
    "import matplotlib.pyplot as plt\n",
    "from statsmodels.tsa.arima.model import ARIMA\n",
    "\n",
    "# Assuming 'df' is your DataFrame containing historical sales data\n",
    "# and the date column is named 'saledate'\n",
    "date_column = 'saledate'\n",
    "\n",
    "# Convert 'saledate' column to datetime format\n",
    "df[date_column] = pd.to_datetime(df[date_column])\n",
    "\n",
    "# Group by date and sum the sales for each day\n",
    "daily_sales = df.groupby(pd.Grouper(key=date_column, freq='D'))['sellingprice'].sum()\n",
    "\n",
    "# Visualize the daily total sales\n",
    "plt.figure(figsize=(12, 6))\n",
    "plt.plot(daily_sales.index, daily_sales.values, marker='o')\n",
    "plt.title('Daily Total Sales')\n",
    "plt.xlabel('Date')\n",
    "plt.ylabel('Total Sales')\n",
    "plt.grid(True)\n",
    "plt.show()\n",
    "\n",
    "# Use ARIMA model to make predictions\n",
    "# Example: ARIMA(1, 1, 1) model\n",
    "model = ARIMA(daily_sales, order=(1, 1, 1))\n",
    "model_fit = model.fit()\n",
    "# Forecast future sales for the next 30 days\n",
    "forecast = model_fit.forecast(steps=30)\n",
    "\n",
    "# Print the forecasted sales for the next 30 days\n",
    "print(\"Forecasted sales for the next 30 days:\")\n",
    "print(forecast)"
   ]
  },
  {
   "cell_type": "code",
   "execution_count": 268,
   "id": "5b1c72f0-224c-44f9-8442-cfbcc40d5700",
   "metadata": {},
   "outputs": [
    {
     "name": "stdout",
     "output_type": "stream",
     "text": [
      "\n",
      "The forecasted sales for the next 30 days show a relatively stable trend, with sales hovering around 75 million (7.5e+07) for each day. There is no significant upward or downward trend in the forecast, indicating a stable sales outlook for the next month.\n",
      "\n",
      "Based on this forecast, we can expect sales to remain consistent in the upcoming month, with no major fluctuations expected. \n",
      "\n"
     ]
    }
   ],
   "source": [
    "thirty_Days_forcast = \"\"\"\n",
    "The forecasted sales for the next 30 days show a relatively stable trend, with sales hovering around 75 million (7.5e+07) for each day. There is no significant upward or downward trend in the forecast, indicating a stable sales outlook for the next month.\n",
    "\n",
    "Based on this forecast, we can expect sales to remain consistent in the upcoming month, with no major fluctuations expected. \n",
    "\"\"\"\n",
    "\n",
    "print(thirty_Days_forcast)"
   ]
  },
  {
   "cell_type": "code",
   "execution_count": 270,
   "id": "4e95627c-e2a1-4f4c-aa10-45b01f8e113f",
   "metadata": {},
   "outputs": [
    {
     "data": {
      "image/png": "[encoded data removed]",
      "text/plain": [
       "<Figure size 1200x800 with 4 Axes>"
      ]
     },
     "metadata": {},
     "output_type": "display_data"
    }
   ],
   "source": [
    "from statsmodels.tsa.seasonal import seasonal_decompose\n",
    "import matplotlib.pyplot as plt\n",
    "\n",
    "# Assuming 'df' is your DataFrame containing historical sales data\n",
    "# and the date column is named 'saledate'\n",
    "date_column = 'saledate'\n",
    "sales_column = 'sellingprice'\n",
    "\n",
    "# Check if the date column is already in datetime format\n",
    "if not pd.api.types.is_datetime64_any_dtype(df[date_column]):\n",
    "    # Attempt to convert the date column to datetime\n",
    "    try:\n",
    "        df[date_column] = pd.to_datetime(df[date_column], errors='coerce')\n",
    "    except ValueError:\n",
    "        print(\"Conversion to datetime failed.\")\n",
    "\n",
    "# Check if the date column was successfully converted to datetime\n",
    "if pd.api.types.is_datetime64_any_dtype(df[date_column]):\n",
    "    # Set the date column as the index\n",
    "    df.set_index(date_column, inplace=True)\n",
    "\n",
    "    # Perform seasonal decomposition\n",
    "    result = seasonal_decompose(df[sales_column], model='additive', period=12)  # Assuming a yearly seasonal pattern\n",
    "\n",
    "    # Plot the seasonal decomposition\n",
    "    fig, axes = plt.subplots(4, 1, figsize=(12, 8))\n",
    "    result.observed.plot(ax=axes[0], title='Observed')\n",
    "    result.trend.plot(ax=axes[1], title='Trend')\n",
    "    result.seasonal.plot(ax=axes[2], title='Seasonal')\n",
    "    result.resid.plot(ax=axes[3], title='Residual')\n",
    "    plt.tight_layout()\n",
    "    plt.show()\n",
    "else:\n",
    "    print(\"Conversion to datetime failed.\")"
   ]
  },
  {
   "cell_type": "code",
   "execution_count": 283,
   "id": "8799953a-2f2f-4564-a48b-ebbdeb63b255",
   "metadata": {},
   "outputs": [
    {
     "name": "stdout",
     "output_type": "stream",
     "text": [
      "Observed:\n",
      "saledate\n",
      "2014-12-16 12:30:00+08:00    21500.0\n",
      "2014-12-16 12:30:00+08:00    21500.0\n",
      "2015-01-15 04:30:00+08:00    30000.0\n",
      "2015-01-29 04:30:00+08:00    27750.0\n",
      "2014-12-18 12:30:00+08:00    67000.0\n",
      "Name: sellingprice, dtype: float64\n",
      "\n",
      "Trend:\n",
      "saledate\n",
      "2014-12-16 12:30:00+08:00   NaN\n",
      "2014-12-16 12:30:00+08:00   NaN\n",
      "2015-01-15 04:30:00+08:00   NaN\n",
      "2015-01-29 04:30:00+08:00   NaN\n",
      "2014-12-18 12:30:00+08:00   NaN\n",
      "Name: trend, dtype: float64\n",
      "\n",
      "Seasonal:\n",
      "saledate\n",
      "2014-12-16 12:30:00+08:00     6.577594\n",
      "2014-12-16 12:30:00+08:00    29.528259\n",
      "2015-01-15 04:30:00+08:00    -4.039692\n",
      "2015-01-29 04:30:00+08:00   -15.142196\n",
      "2014-12-18 12:30:00+08:00   -32.584138\n",
      "Name: seasonal, dtype: float64\n",
      "\n",
      "Residual:\n",
      "saledate\n",
      "2014-12-16 12:30:00+08:00   NaN\n",
      "2014-12-16 12:30:00+08:00   NaN\n",
      "2015-01-15 04:30:00+08:00   NaN\n",
      "2015-01-29 04:30:00+08:00   NaN\n",
      "2014-12-18 12:30:00+08:00   NaN\n",
      "Name: resid, dtype: float64\n"
     ]
    }
   ],
   "source": [
    "from statsmodels.tsa.seasonal import seasonal_decompose\n",
    "import matplotlib.pyplot as plt\n",
    "\n",
    "sales_column = 'sellingprice'\n",
    "\n",
    "# Perform seasonal decomposition\n",
    "result = seasonal_decompose(df[sales_column], model='additive', period=12)  # Assuming a yearly seasonal pattern\n",
    "\n",
    "# Print the seasonal decomposition results\n",
    "print(\"Observed:\")\n",
    "print(result.observed.head())\n",
    "print(\"\\nTrend:\")\n",
    "print(result.trend.head())\n",
    "print(\"\\nSeasonal:\")\n",
    "print(result.seasonal.head())\n",
    "print(\"\\nResidual:\")\n",
    "print(result.resid.head())"
   ]
  },
  {
   "cell_type": "code",
   "execution_count": 285,
   "id": "f8124ae0-8f4c-47e7-8381-1aba60c336d4",
   "metadata": {},
   "outputs": [
    {
     "name": "stdout",
     "output_type": "stream",
     "text": [
      "\n",
      "Based on the seasonal decomposition analysis, we can observe the following regarding sales seasonality:\n",
      "\n",
      "    Observed Sales: The observed sales figures show some variability across different dates, ranging from 21,500 to 67,000. This variability indicates that there may be seasonal patterns or other factors influencing sales.\n",
      "\n",
      "    Trend: The trend component could not be estimated for any of the dates, as all the trend values are NaN. This suggests that there is no clear trend in the sales data over the analyzed period.\n",
      "\n",
      "    Seasonal Effect: The seasonal component shows some variability across different dates. Positive values indicate an increase in sales compared to the long-term average, while negative values indicate a decrease. For example, on 2014-12-16, there is a positive seasonal effect, suggesting higher sales compared to the average.\n",
      "\n",
      "    Residuals: Similar to the trend, all the residual values are NaN, indicating that the residual variability in the data could not be estimated.\n",
      "\n"
     ]
    }
   ],
   "source": [
    "seasonal_decomposition = \"\"\"\n",
    "Based on the seasonal decomposition analysis, we can observe the following regarding sales seasonality:\n",
    "\n",
    "    Observed Sales: The observed sales figures show some variability across different dates, ranging from 21,500 to 67,000. This variability indicates that there may be seasonal patterns or other factors influencing sales.\n",
    "\n",
    "    Trend: The trend component could not be estimated for any of the dates, as all the trend values are NaN. This suggests that there is no clear trend in the sales data over the analyzed period.\n",
    "\n",
    "    Seasonal Effect: The seasonal component shows some variability across different dates. Positive values indicate an increase in sales compared to the long-term average, while negative values indicate a decrease. For example, on 2014-12-16, there is a positive seasonal effect, suggesting higher sales compared to the average.\n",
    "\n",
    "    Residuals: Similar to the trend, all the residual values are NaN, indicating that the residual variability in the data could not be estimated.\n",
    "\"\"\"\n",
    "\n",
    "print(seasonal_decomposition)    "
   ]
  },
  {
   "cell_type": "code",
   "execution_count": null,
   "id": "fa849894-5f7b-418c-a4ab-e6e8fe9439f2",
   "metadata": {},
   "outputs": [],
   "source": []
  }
 ],
 "metadata": {
  "kernelspec": {
   "display_name": "Python 3 (ipykernel)",
   "language": "python",
   "name": "python3"
  },
  "language_info": {
   "codemirror_mode": {
    "name": "ipython",
    "version": 3
   },
   "file_extension": ".py",
   "mimetype": "text/x-python",
   "name": "python",
   "nbconvert_exporter": "python",
   "pygments_lexer": "ipython3",
   "version": "3.10.9"
  }
 },
 "nbformat": 4,
 "nbformat_minor": 5
}
